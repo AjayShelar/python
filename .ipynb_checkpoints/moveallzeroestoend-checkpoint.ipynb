{
 "cells": [
  {
   "cell_type": "code",
   "execution_count": 5,
   "metadata": {},
   "outputs": [
    {
     "name": "stdout",
     "output_type": "stream",
     "text": [
      "5\n"
     ]
    },
    {
     "data": {
      "text/plain": [
       "[1, 5, 6, 7, 8, 0, 0, 0]"
      ]
     },
     "execution_count": 5,
     "metadata": {},
     "output_type": "execute_result"
    }
   ],
   "source": [
    "def movezeroes(li):\n",
    "    count = 0\n",
    "    for i in range(len(li)):\n",
    "        if li[i] != 0:\n",
    "            li[count] = li[i] #shifting nonzeroes\n",
    "            count += 1 # maintaining count of nonzeroes\n",
    "    print(count)\n",
    "    while count < len(li):\n",
    "        li[count] = 0 #adding zeroes until list ends\n",
    "        count += 1\n",
    "    return li\n",
    "\n",
    "            \n",
    "#driver code\n",
    "li = [0,1,0,0,5,6,7,8]\n",
    "movezeroes(li)"
   ]
  },
  {
   "cell_type": "code",
   "execution_count": 11,
   "metadata": {},
   "outputs": [
    {
     "name": "stdout",
     "output_type": "stream",
     "text": [
      "[5, 4, 5, 45, 1]\n"
     ]
    },
    {
     "data": {
      "text/plain": [
       "[5, 4, 5, 45, 1, 0, 0, 0]"
      ]
     },
     "execution_count": 11,
     "metadata": {},
     "output_type": "execute_result"
    }
   ],
   "source": [
    "def movezeroes(li):\n",
    "    n = len(li)\n",
    "    li[:] = filter(None, li)\n",
    "    print(li)\n",
    "    li.extend([0] * (n - len(li)))\n",
    "    return li\n",
    "\n",
    "\n",
    "li = [5,4,0,5,0,45,0,1]\n",
    "movezeroes(li)"
   ]
  },
  {
   "cell_type": "code",
   "execution_count": null,
   "metadata": {
    "collapsed": true
   },
   "outputs": [],
   "source": []
  }
 ],
 "metadata": {
  "kernelspec": {
   "display_name": "Python 3",
   "language": "python",
   "name": "python3"
  },
  "language_info": {
   "codemirror_mode": {
    "name": "ipython",
    "version": 3
   },
   "file_extension": ".py",
   "mimetype": "text/x-python",
   "name": "python",
   "nbconvert_exporter": "python",
   "pygments_lexer": "ipython3",
   "version": "3.6.2"
  }
 },
 "nbformat": 4,
 "nbformat_minor": 2
}
