{
 "cells": [
  {
   "cell_type": "code",
   "execution_count": 41,
   "metadata": {},
   "outputs": [
    {
     "name": "stdout",
     "output_type": "stream",
     "text": [
      "string is palindrome\n"
     ]
    }
   ],
   "source": [
    "class Node:\n",
    "\n",
    "    def __init__(self, data):\n",
    "        self.data = data\n",
    "        self.next = None\n",
    "\n",
    "class LinkedList :\n",
    "\n",
    "    def __init__(self):\n",
    "        self.head = None\n",
    "\n",
    "    def push(self, new_data):\n",
    "        new_node = Node(new_data)\n",
    "        new_node.next = self.head\n",
    "        self.head = new_node\n",
    "\n",
    "    def append(self, new_data):\n",
    "\n",
    "        new_node = Node(new_data)\n",
    "\n",
    "        if self.head == None:\n",
    "            self.head = new_node\n",
    "            return\n",
    "        last = self.head\n",
    "        while last.next:\n",
    "            last = last.next\n",
    "        last.next = new_node\n",
    "\n",
    "    def pop(self, n):\n",
    "        lst = [0] * n\n",
    "        temp = self.head\n",
    "        i = 0\n",
    "        while (temp):\n",
    "            lst[i] = temp.data\n",
    "            temp = temp.next\n",
    "            i += 1\n",
    "        return lst\n",
    "\n",
    "#driver code\n",
    "if __name__=='__main__':\n",
    "    LL = LinkedList()\n",
    "    string = 'abacaba'\n",
    "    for i in string:\n",
    "        LL.push(i)\n",
    "    rev = []\n",
    "    rev = LL.pop(len(string))\n",
    "    count = 0\n",
    "    for i in range(len(string)):\n",
    "        if string[i] == rev[i]:\n",
    "            count += 1\n",
    "        else:\n",
    "            pass\n",
    "    if count == len(string):\n",
    "        print('string is palindrome')\n",
    "    else:\n",
    "        print('not a palindrome')\n",
    "    "
   ]
  }
 ],
 "metadata": {
  "kernelspec": {
   "display_name": "Python 3",
   "language": "python",
   "name": "python3"
  },
  "language_info": {
   "codemirror_mode": {
    "name": "ipython",
    "version": 3
   },
   "file_extension": ".py",
   "mimetype": "text/x-python",
   "name": "python",
   "nbconvert_exporter": "python",
   "pygments_lexer": "ipython3",
   "version": "3.6.2"
  }
 },
 "nbformat": 4,
 "nbformat_minor": 2
}
