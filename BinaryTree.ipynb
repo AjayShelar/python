{
 "cells": [
  {
   "cell_type": "code",
   "execution_count": 11,
   "metadata": {},
   "outputs": [
    {
     "data": {
      "text/plain": [
       "'ajay'"
      ]
     },
     "execution_count": 11,
     "metadata": {},
     "output_type": "execute_result"
    }
   ],
   "source": [
    "class btree:\n",
    "    def __init__(self, rootid):\n",
    "        self.left = None\n",
    "        self.right = None\n",
    "        self.rootid = rootid\n",
    "\n",
    "    def grc(self):\n",
    "        return self.right\n",
    "    def glc(self):\n",
    "        return self.left\n",
    "    def snv(self, value):\n",
    "        self.rootid = value\n",
    "\n",
    "    def gr(self):\n",
    "        return self.rootid\n",
    "\n",
    "    def ilc(self, new_node):\n",
    "        if self.right == None:\n",
    "            self.right = btree(new_node)\n",
    "        else:\n",
    "            tree = btree(new_node)\n",
    "            self.right = tree\n",
    "            tree = self.right\n",
    "    def irc(self, new_node):\n",
    "        if self.left == None:\n",
    "            self.left = btree(new_node)\n",
    "        else :\n",
    "            tree = btree(new_node)\n",
    "            self.left = tree\n",
    "            tree = self.left\n",
    "\n",
    "    \n",
    "\n",
    "\n",
    "#driver code\n",
    "\n",
    "mytree = btree(\"ajay\")\n",
    "mytree.ilc(\"sanjay\")\n",
    "mytree.irc(\"shelar\")\n",
    "\n",
    "    \n",
    "\n",
    "\n",
    "#driver code\n",
    "\n",
    "mytree = btree(\"ajay\")\n",
    "mytree.ilc(\"sanjay\")\n",
    "mytree.irc(\"shelar\")"
   ]
  },
  {
   "cell_type": "code",
   "execution_count": null,
   "metadata": {
    "collapsed": true
   },
   "outputs": [],
   "source": []
  },
  {
   "cell_type": "code",
   "execution_count": null,
   "metadata": {
    "collapsed": true
   },
   "outputs": [],
   "source": []
  }
 ],
 "metadata": {
  "kernelspec": {
   "display_name": "Python 3",
   "language": "python",
   "name": "python3"
  },
  "language_info": {
   "codemirror_mode": {
    "name": "ipython",
    "version": 3
   },
   "file_extension": ".py",
   "mimetype": "text/x-python",
   "name": "python",
   "nbconvert_exporter": "python",
   "pygments_lexer": "ipython3",
   "version": "3.6.2"
  }
 },
 "nbformat": 4,
 "nbformat_minor": 2
}
