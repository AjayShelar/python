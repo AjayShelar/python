{
 "cells": [
  {
   "cell_type": "code",
   "execution_count": 7,
   "metadata": {},
   "outputs": [
    {
     "name": "stdout",
     "output_type": "stream",
     "text": [
      "10\n",
      "[0, 1, 1, 2, 3, 5, 8, 13, 21, 34]\n"
     ]
    }
   ],
   "source": [
    "def fibonacci(terms):\n",
    "    li = []\n",
    "    if terms == 1:\n",
    "        li.append(0)\n",
    "        return li\n",
    "    else:\n",
    "        count = 0\n",
    "        n1 = 0\n",
    "        n2  = 1\n",
    "        li = []\n",
    "        while count < terms:\n",
    "            li.append(n1)\n",
    "            nth = n1 + n2\n",
    "            n1 = n2\n",
    "            n2 = nth\n",
    "            count +=1\n",
    "        return li\n",
    "\n",
    "#driver code\n",
    "terms = int(input())\n",
    "print(fibonacci(terms))\n",
    "        "
   ]
  }
 ],
 "metadata": {
  "kernelspec": {
   "display_name": "Python 3",
   "language": "python",
   "name": "python3"
  },
  "language_info": {
   "codemirror_mode": {
    "name": "ipython",
    "version": 3
   },
   "file_extension": ".py",
   "mimetype": "text/x-python",
   "name": "python",
   "nbconvert_exporter": "python",
   "pygments_lexer": "ipython3",
   "version": "3.6.2"
  }
 },
 "nbformat": 4,
 "nbformat_minor": 2
}
