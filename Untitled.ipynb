{
 "cells": [
  {
   "cell_type": "code",
   "execution_count": 23,
   "metadata": {},
   "outputs": [
    {
     "name": "stdout",
     "output_type": "stream",
     "text": [
      "['a', 'j', 'a', 'y']\n",
      "2\n",
      "4\n"
     ]
    },
    {
     "data": {
      "text/plain": [
       "['a', 'j', 'a', 'y']"
      ]
     },
     "execution_count": 23,
     "metadata": {},
     "output_type": "execute_result"
    }
   ],
   "source": [
    "def reverse1(string):\n",
    "    list1 = list(string)\n",
    "    print(list1)\n",
    "    m = len(list1)//2\n",
    "    print(m)\n",
    "    print(len(list1))\n",
    "    for i in range(0,m):\n",
    "        for j in range(len(list1)-1, m+1, -1):\n",
    "            list1[i] = list1[i] + list1[j]\n",
    "            list1[i] = list1[i][1]\n",
    "            list1[j] = list1[i][0]\n",
    "            print(list1[i])\n",
    "            print(list1[j])\n",
    "    return list1\n",
    "    \n",
    "#driver code\n",
    "string = \"ajay\"\n",
    "reverse1(string)\n",
    "\n"
   ]
  },
  {
   "cell_type": "code",
   "execution_count": null,
   "metadata": {
    "collapsed": true
   },
   "outputs": [],
   "source": []
  }
 ],
 "metadata": {
  "kernelspec": {
   "display_name": "Python 3",
   "language": "python",
   "name": "python3"
  },
  "language_info": {
   "codemirror_mode": {
    "name": "ipython",
    "version": 3
   },
   "file_extension": ".py",
   "mimetype": "text/x-python",
   "name": "python",
   "nbconvert_exporter": "python",
   "pygments_lexer": "ipython3",
   "version": "3.6.2"
  }
 },
 "nbformat": 4,
 "nbformat_minor": 2
}
