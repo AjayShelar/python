{
 "cells": [
  {
   "cell_type": "markdown",
   "metadata": {},
   "source": [
    "problem >> https://www.hackerrank.com/challenges/birthday-cake-candles   "
   ]
  },
  {
   "cell_type": "code",
   "execution_count": null,
   "metadata": {
    "collapsed": true
   },
   "outputs": [],
   "source": [
    "#!/bin/python3\n",
    "\n",
    "import sys\n",
    "\n",
    "def birthdayCakeCandles(n, ar):\n",
    "    # Complete this function\n",
    "    candles_blow_out = []\n",
    "    max = ar[0]\n",
    "    \n",
    "    for num in ar:\n",
    "        if max < num :\n",
    "            max = num\n",
    "    for i in range(len(ar)):\n",
    "        if ar[i] >= max:\n",
    "            candles_blow_out.append(ar[i])\n",
    "    return len(candles_blow_out)\n",
    "\n",
    "\n",
    "n = int(input().strip())\n",
    "ar = list(map(int, input().strip().split(' ')))\n",
    "result = birthdayCakeCandles(n, ar)\n",
    "print(result)\n",
    "\n"
   ]
  }
 ],
 "metadata": {
  "kernelspec": {
   "display_name": "Python 3",
   "language": "python",
   "name": "python3"
  },
  "language_info": {
   "codemirror_mode": {
    "name": "ipython",
    "version": 3
   },
   "file_extension": ".py",
   "mimetype": "text/x-python",
   "name": "python",
   "nbconvert_exporter": "python",
   "pygments_lexer": "ipython3",
   "version": "3.6.1"
  }
 },
 "nbformat": 4,
 "nbformat_minor": 2
}
