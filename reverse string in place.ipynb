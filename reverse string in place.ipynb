{
 "cells": [
  {
   "cell_type": "code",
   "execution_count": 17,
   "metadata": {},
   "outputs": [
    {
     "name": "stdout",
     "output_type": "stream",
     "text": [
      "['a', 'j', 'a', 'y']\n"
     ]
    },
    {
     "data": {
      "text/plain": [
       "['y', 'a', 'j', 'a']"
      ]
     },
     "execution_count": 17,
     "metadata": {},
     "output_type": "execute_result"
    }
   ],
   "source": [
    "def reverse1(string):\n",
    "    li = []\n",
    "    li.extend(string)\n",
    "    print(li)\n",
    "    size = len(li)\n",
    "    for i in range(0, size//2):\n",
    "        li[i], li[size-1-i] = li[size-1-i], li[i]\n",
    "    return li\n",
    "    \n",
    "#driver code\n",
    "string = \"ajay\"\n",
    "reverse1(string)\n",
    "\n"
   ]
  },
  {
   "cell_type": "code",
   "execution_count": null,
   "metadata": {
    "collapsed": true
   },
   "outputs": [],
   "source": []
  }
 ],
 "metadata": {
  "kernelspec": {
   "display_name": "Python 3",
   "language": "python",
   "name": "python3"
  },
  "language_info": {
   "codemirror_mode": {
    "name": "ipython",
    "version": 3
   },
   "file_extension": ".py",
   "mimetype": "text/x-python",
   "name": "python",
   "nbconvert_exporter": "python",
   "pygments_lexer": "ipython3",
   "version": "3.6.2"
  }
 },
 "nbformat": 4,
 "nbformat_minor": 2
}
